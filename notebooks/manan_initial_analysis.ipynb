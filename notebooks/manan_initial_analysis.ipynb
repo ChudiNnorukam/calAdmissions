{
 "cells": [
  {
   "cell_type": "code",
   "execution_count": 2,
   "metadata": {},
   "outputs": [],
   "source": [
    "from __future__ import print_function, division\n",
    "import numpy as np\n",
    "import pandas as pd\n",
    "import matplotlib as mpl\n",
    "import matplotlib.pyplot as plt\n",
    "%matplotlib inline"
   ]
  },
  {
   "cell_type": "code",
   "execution_count": 3,
   "metadata": {},
   "outputs": [],
   "source": [
    "gpa = pd.read_csv(\"../data/GPA.csv\")\n",
    "transfers = pd.read_csv(\"../data/Transfers.csv\")\n",
    "freshmen = pd.read_csv(\"../data/Freshmen.csv\")"
   ]
  },
  {
   "cell_type": "code",
   "execution_count": 4,
   "metadata": {},
   "outputs": [
    {
     "data": {
      "text/html": [
       "<div>\n",
       "<style scoped>\n",
       "    .dataframe tbody tr th:only-of-type {\n",
       "        vertical-align: middle;\n",
       "    }\n",
       "\n",
       "    .dataframe tbody tr th {\n",
       "        vertical-align: top;\n",
       "    }\n",
       "\n",
       "    .dataframe thead th {\n",
       "        text-align: right;\n",
       "    }\n",
       "</style>\n",
       "<table border=\"1\" class=\"dataframe\">\n",
       "  <thead>\n",
       "    <tr style=\"text-align: right;\">\n",
       "      <th></th>\n",
       "      <th>Calculation1</th>\n",
       "      <th>Campus</th>\n",
       "      <th>City</th>\n",
       "      <th>County/State/Country</th>\n",
       "      <th>Fall Term</th>\n",
       "      <th>Level</th>\n",
       "      <th>School</th>\n",
       "      <th>Adm GPA (SUM)</th>\n",
       "      <th>App GPA (SUM)</th>\n",
       "      <th>Enrl GPA (SUM)</th>\n",
       "    </tr>\n",
       "  </thead>\n",
       "  <tbody>\n",
       "    <tr>\n",
       "      <th>0</th>\n",
       "      <td>GERMAN SWISS INTERNATIONAL SCH670905</td>\n",
       "      <td>Berkeley</td>\n",
       "      <td>NaN</td>\n",
       "      <td>HONG KONG</td>\n",
       "      <td>2012</td>\n",
       "      <td>Freshman</td>\n",
       "      <td>GERMAN SWISS INTERNATIONAL SCH</td>\n",
       "      <td>NaN</td>\n",
       "      <td>3.604000</td>\n",
       "      <td>NaN</td>\n",
       "    </tr>\n",
       "    <tr>\n",
       "      <th>1</th>\n",
       "      <td>AQUINAS HIGH SCHOOL052772</td>\n",
       "      <td>Riverside</td>\n",
       "      <td>San Bernardino</td>\n",
       "      <td>San Bernardino</td>\n",
       "      <td>1995</td>\n",
       "      <td>Freshman</td>\n",
       "      <td>AQUINAS HIGH SCHOOL</td>\n",
       "      <td>NaN</td>\n",
       "      <td>3.361429</td>\n",
       "      <td>NaN</td>\n",
       "    </tr>\n",
       "    <tr>\n",
       "      <th>2</th>\n",
       "      <td>DESIGN SCIENCE HIGH SCHOOL054003</td>\n",
       "      <td>Los Angeles</td>\n",
       "      <td>Fresno</td>\n",
       "      <td>Fresno</td>\n",
       "      <td>2012</td>\n",
       "      <td>Freshman</td>\n",
       "      <td>DESIGN SCIENCE HIGH SCHOOL</td>\n",
       "      <td>NaN</td>\n",
       "      <td>3.818000</td>\n",
       "      <td>NaN</td>\n",
       "    </tr>\n",
       "    <tr>\n",
       "      <th>3</th>\n",
       "      <td>BLOOMFIELD HILLS HIGH SCHOOL232447</td>\n",
       "      <td>Universitywide</td>\n",
       "      <td>Bloomfield Twp</td>\n",
       "      <td>Michigan</td>\n",
       "      <td>2015</td>\n",
       "      <td>Freshman</td>\n",
       "      <td>BLOOMFIELD HILLS HIGH SCHOOL</td>\n",
       "      <td>3.942</td>\n",
       "      <td>3.950000</td>\n",
       "      <td>NaN</td>\n",
       "    </tr>\n",
       "    <tr>\n",
       "      <th>4</th>\n",
       "      <td>A B MILLER HIGH SCHOOL050944</td>\n",
       "      <td>Santa Barbara</td>\n",
       "      <td>Fontana</td>\n",
       "      <td>San Bernardino</td>\n",
       "      <td>1998</td>\n",
       "      <td>Freshman</td>\n",
       "      <td>A B MILLER HIGH SCHOOL</td>\n",
       "      <td>NaN</td>\n",
       "      <td>3.518571</td>\n",
       "      <td>NaN</td>\n",
       "    </tr>\n",
       "  </tbody>\n",
       "</table>\n",
       "</div>"
      ],
      "text/plain": [
       "                           Calculation1          Campus            City  \\\n",
       "0  GERMAN SWISS INTERNATIONAL SCH670905        Berkeley             NaN   \n",
       "1             AQUINAS HIGH SCHOOL052772       Riverside  San Bernardino   \n",
       "2      DESIGN SCIENCE HIGH SCHOOL054003     Los Angeles          Fresno   \n",
       "3    BLOOMFIELD HILLS HIGH SCHOOL232447  Universitywide  Bloomfield Twp   \n",
       "4          A B MILLER HIGH SCHOOL050944   Santa Barbara         Fontana   \n",
       "\n",
       "  County/State/Country  Fall Term     Level                          School  \\\n",
       "0            HONG KONG       2012  Freshman  GERMAN SWISS INTERNATIONAL SCH   \n",
       "1       San Bernardino       1995  Freshman             AQUINAS HIGH SCHOOL   \n",
       "2               Fresno       2012  Freshman      DESIGN SCIENCE HIGH SCHOOL   \n",
       "3             Michigan       2015  Freshman    BLOOMFIELD HILLS HIGH SCHOOL   \n",
       "4       San Bernardino       1998  Freshman          A B MILLER HIGH SCHOOL   \n",
       "\n",
       "   Adm GPA (SUM)  App GPA (SUM)  Enrl GPA (SUM)  \n",
       "0            NaN       3.604000             NaN  \n",
       "1            NaN       3.361429             NaN  \n",
       "2            NaN       3.818000             NaN  \n",
       "3          3.942       3.950000             NaN  \n",
       "4            NaN       3.518571             NaN  "
      ]
     },
     "execution_count": 4,
     "metadata": {},
     "output_type": "execute_result"
    }
   ],
   "source": [
    "gpa.head()"
   ]
  },
  {
   "cell_type": "code",
   "execution_count": 6,
   "metadata": {},
   "outputs": [
    {
     "data": {
      "text/plain": [
       "0         2012\n",
       "1         1995\n",
       "2         2012\n",
       "3         2015\n",
       "4         1998\n",
       "5         2013\n",
       "6         2012\n",
       "7         1995\n",
       "8         2014\n",
       "9         2004\n",
       "10        2004\n",
       "11        2017\n",
       "12        2008\n",
       "13        2008\n",
       "14        2003\n",
       "15        2004\n",
       "16        2007\n",
       "17        2014\n",
       "18        2004\n",
       "19        2015\n",
       "20        1996\n",
       "21        2013\n",
       "22        2010\n",
       "23        1994\n",
       "24        2015\n",
       "25        1998\n",
       "26        1999\n",
       "27        1997\n",
       "28        2017\n",
       "29        1999\n",
       "          ... \n",
       "333282    2011\n",
       "333283    2011\n",
       "333284    2012\n",
       "333285    2012\n",
       "333286    2012\n",
       "333287    2012\n",
       "333288    2012\n",
       "333289    2013\n",
       "333290    2013\n",
       "333291    2013\n",
       "333292    2013\n",
       "333293    2013\n",
       "333294    2014\n",
       "333295    2014\n",
       "333296    2014\n",
       "333297    2015\n",
       "333298    2015\n",
       "333299    2015\n",
       "333300    2015\n",
       "333301    2015\n",
       "333302    2015\n",
       "333303    2016\n",
       "333304    2016\n",
       "333305    2016\n",
       "333306    2016\n",
       "333307    2017\n",
       "333308    2017\n",
       "333309    2017\n",
       "333310    2017\n",
       "333311    2017\n",
       "Name: Fall Term, Length: 333312, dtype: int64"
      ]
     },
     "execution_count": 6,
     "metadata": {},
     "output_type": "execute_result"
    }
   ],
   "source": [
    "gpa['Fall Term']"
   ]
  },
  {
   "cell_type": "markdown",
   "metadata": {},
   "source": [
    "# Initial Exploratory Tasks"
   ]
  },
  {
   "cell_type": "markdown",
   "metadata": {},
   "source": [
    "1. How many high schools are in each of the datasets? How many years do each of the datasets cover?\n",
    "2. How many high schools are included in all three of the datasets? How many high schools are included in only 2 of the datasets? How many high schools are included in only one of the datasets?\n",
    "3. What high schools have the highest number of freshmen admitted? What high schools schools have the highest number of transfer students admitted? How does this differ across UC campuses?\n",
    "4. What high schools have the highest freshman admit rate? What schools have the highest freshmen transfer rate? How would would you even calculate these things? :o How does this differ across UC campuses?\n",
    "5. What California counties are most represented in the data? What non-California states are most represented in the data? What other countries are most represented in the data? How does this differ across UC campuses?\n",
    "6. Of the high schools that have students admitted, which high school has the highest ratio of admitted GPA to enrolled GPA? Of the high schools that have students enrolled, which high school has the highest ratio of enrolled GPA to admitted GPA? Is there a significant (linear) correlation between high school GPA and acceptance into a particular UC campus?\n",
    "7. What is the relationship between admit rate and admit GPA? (Answer through a visualization) How is this different between the relationship between enrollment rate and enrollment GPA? How does this differ across each UC Campus?\n",
    "8. How different is the admit rate between different ethnicities? How does this relate to the enrollment rate between different ethnicities? How does this vary between freshmen and transfer students? How does this vary across different campuses?"
   ]
  },
  {
   "cell_type": "code",
   "execution_count": null,
   "metadata": {},
   "outputs": [],
   "source": []
  }
 ],
 "metadata": {
  "kernelspec": {
   "display_name": "Python 3",
   "language": "python",
   "name": "python3"
  },
  "language_info": {
   "codemirror_mode": {
    "name": "ipython",
    "version": 3
   },
   "file_extension": ".py",
   "mimetype": "text/x-python",
   "name": "python",
   "nbconvert_exporter": "python",
   "pygments_lexer": "ipython3",
   "version": "3.6.5"
  },
  "varInspector": {
   "cols": {
    "lenName": 16,
    "lenType": 16,
    "lenVar": 40
   },
   "kernels_config": {
    "python": {
     "delete_cmd_postfix": "",
     "delete_cmd_prefix": "del ",
     "library": "var_list.py",
     "varRefreshCmd": "print(var_dic_list())"
    },
    "r": {
     "delete_cmd_postfix": ") ",
     "delete_cmd_prefix": "rm(",
     "library": "var_list.r",
     "varRefreshCmd": "cat(var_dic_list()) "
    }
   },
   "types_to_exclude": [
    "module",
    "function",
    "builtin_function_or_method",
    "instance",
    "_Feature"
   ],
   "window_display": false
  }
 },
 "nbformat": 4,
 "nbformat_minor": 2
}
