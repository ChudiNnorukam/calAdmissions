{
 "cells": [
  {
   "cell_type": "code",
   "execution_count": 1,
   "metadata": {
    "collapsed": true
   },
   "outputs": [],
   "source": [
    "from __future__ import print_function, division\n",
    "import numpy as np\n",
    "import pandas as pd\n",
    "import matplotlib as mpl\n",
    "import matplotlib.pyplot as plt\n",
    "%matplotlib inline"
   ]
  },
  {
   "cell_type": "code",
   "execution_count": 2,
   "metadata": {
    "collapsed": false
   },
   "outputs": [],
   "source": [
    "gpa = pd.read_csv(\"../data/GPA.csv\")\n",
    "transfers = pd.read_csv(\"../data/Transfers.csv\")\n",
    "freshmen = pd.read_csv(\"../data/Freshmen.csv\")"
   ]
  },
  {
   "cell_type": "code",
   "execution_count": 3,
   "metadata": {
    "collapsed": false
   },
   "outputs": [
    {
     "data": {
      "text/html": [
       "<div>\n",
       "<table border=\"1\" class=\"dataframe\">\n",
       "  <thead>\n",
       "    <tr style=\"text-align: right;\">\n",
       "      <th></th>\n",
       "      <th>﻿Calculation1</th>\n",
       "      <th>Campus</th>\n",
       "      <th>City</th>\n",
       "      <th>County/State/Country</th>\n",
       "      <th>Fall Term</th>\n",
       "      <th>Level</th>\n",
       "      <th>School</th>\n",
       "      <th>Adm GPA (SUM)</th>\n",
       "      <th>App GPA (SUM)</th>\n",
       "      <th>Enrl GPA (SUM)</th>\n",
       "    </tr>\n",
       "  </thead>\n",
       "  <tbody>\n",
       "    <tr>\n",
       "      <th>0</th>\n",
       "      <td>GERMAN SWISS INTERNATIONAL SCH670905</td>\n",
       "      <td>Berkeley</td>\n",
       "      <td>n/a</td>\n",
       "      <td>HONG KONG</td>\n",
       "      <td>2012</td>\n",
       "      <td>Freshman</td>\n",
       "      <td>GERMAN SWISS INTERNATIONAL SCH</td>\n",
       "      <td>NaN</td>\n",
       "      <td>3.604000</td>\n",
       "      <td>NaN</td>\n",
       "    </tr>\n",
       "    <tr>\n",
       "      <th>1</th>\n",
       "      <td>AQUINAS HIGH SCHOOL052772</td>\n",
       "      <td>Riverside</td>\n",
       "      <td>San Bernardino</td>\n",
       "      <td>San Bernardino</td>\n",
       "      <td>1995</td>\n",
       "      <td>Freshman</td>\n",
       "      <td>AQUINAS HIGH SCHOOL</td>\n",
       "      <td>NaN</td>\n",
       "      <td>3.361429</td>\n",
       "      <td>NaN</td>\n",
       "    </tr>\n",
       "    <tr>\n",
       "      <th>2</th>\n",
       "      <td>DESIGN SCIENCE HIGH SCHOOL054003</td>\n",
       "      <td>Los Angeles</td>\n",
       "      <td>Fresno</td>\n",
       "      <td>Fresno</td>\n",
       "      <td>2012</td>\n",
       "      <td>Freshman</td>\n",
       "      <td>DESIGN SCIENCE HIGH SCHOOL</td>\n",
       "      <td>NaN</td>\n",
       "      <td>3.818000</td>\n",
       "      <td>NaN</td>\n",
       "    </tr>\n",
       "    <tr>\n",
       "      <th>3</th>\n",
       "      <td>BLOOMFIELD HILLS HIGH SCHOOL232447</td>\n",
       "      <td>Universitywide</td>\n",
       "      <td>Bloomfield Twp</td>\n",
       "      <td>Michigan</td>\n",
       "      <td>2015</td>\n",
       "      <td>Freshman</td>\n",
       "      <td>BLOOMFIELD HILLS HIGH SCHOOL</td>\n",
       "      <td>3.942</td>\n",
       "      <td>3.950000</td>\n",
       "      <td>NaN</td>\n",
       "    </tr>\n",
       "    <tr>\n",
       "      <th>4</th>\n",
       "      <td>A B MILLER HIGH SCHOOL050944</td>\n",
       "      <td>Santa Barbara</td>\n",
       "      <td>Fontana</td>\n",
       "      <td>San Bernardino</td>\n",
       "      <td>1998</td>\n",
       "      <td>Freshman</td>\n",
       "      <td>A B MILLER HIGH SCHOOL</td>\n",
       "      <td>NaN</td>\n",
       "      <td>3.518571</td>\n",
       "      <td>NaN</td>\n",
       "    </tr>\n",
       "  </tbody>\n",
       "</table>\n",
       "</div>"
      ],
      "text/plain": [
       "                          ﻿Calculation1          Campus            City  \\\n",
       "0  GERMAN SWISS INTERNATIONAL SCH670905        Berkeley             n/a   \n",
       "1             AQUINAS HIGH SCHOOL052772       Riverside  San Bernardino   \n",
       "2      DESIGN SCIENCE HIGH SCHOOL054003     Los Angeles          Fresno   \n",
       "3    BLOOMFIELD HILLS HIGH SCHOOL232447  Universitywide  Bloomfield Twp   \n",
       "4          A B MILLER HIGH SCHOOL050944   Santa Barbara         Fontana   \n",
       "\n",
       "  County/State/Country  Fall Term     Level                          School  \\\n",
       "0            HONG KONG       2012  Freshman  GERMAN SWISS INTERNATIONAL SCH   \n",
       "1       San Bernardino       1995  Freshman             AQUINAS HIGH SCHOOL   \n",
       "2               Fresno       2012  Freshman      DESIGN SCIENCE HIGH SCHOOL   \n",
       "3             Michigan       2015  Freshman    BLOOMFIELD HILLS HIGH SCHOOL   \n",
       "4       San Bernardino       1998  Freshman          A B MILLER HIGH SCHOOL   \n",
       "\n",
       "   Adm GPA (SUM)  App GPA (SUM)  Enrl GPA (SUM)  \n",
       "0            NaN       3.604000             NaN  \n",
       "1            NaN       3.361429             NaN  \n",
       "2            NaN       3.818000             NaN  \n",
       "3          3.942       3.950000             NaN  \n",
       "4            NaN       3.518571             NaN  "
      ]
     },
     "execution_count": 3,
     "metadata": {},
     "output_type": "execute_result"
    }
   ],
   "source": [
    "gpa.head()"
   ]
  },
  {
   "cell_type": "code",
   "execution_count": 4,
   "metadata": {
    "collapsed": false
   },
   "outputs": [
    {
     "data": {
      "text/html": [
       "<div>\n",
       "<table border=\"1\" class=\"dataframe\">\n",
       "  <thead>\n",
       "    <tr style=\"text-align: right;\">\n",
       "      <th></th>\n",
       "      <th>﻿Calculation1</th>\n",
       "      <th>Campus</th>\n",
       "      <th>City</th>\n",
       "      <th>County/State/ Territory</th>\n",
       "      <th>Fall Term</th>\n",
       "      <th>School</th>\n",
       "      <th>Sch Src TR</th>\n",
       "      <th>Uad Uc Ethn 6 Cat</th>\n",
       "      <th>adm (SUM)</th>\n",
       "      <th>app (SUM)</th>\n",
       "      <th>enr (SUM)</th>\n",
       "    </tr>\n",
       "  </thead>\n",
       "  <tbody>\n",
       "    <tr>\n",
       "      <th>0</th>\n",
       "      <td>BUTTE COLLEGE4226</td>\n",
       "      <td>Davis</td>\n",
       "      <td>Oroville</td>\n",
       "      <td>Butte</td>\n",
       "      <td>2007</td>\n",
       "      <td>BUTTE COLLEGE</td>\n",
       "      <td>California Community Colleges (CCC)</td>\n",
       "      <td>White</td>\n",
       "      <td>22.0</td>\n",
       "      <td>32</td>\n",
       "      <td>4.0</td>\n",
       "    </tr>\n",
       "    <tr>\n",
       "      <th>1</th>\n",
       "      <td>IMPERIAL VALLEY COLLEGE4358</td>\n",
       "      <td>Riverside</td>\n",
       "      <td>Imperial</td>\n",
       "      <td>Imperial</td>\n",
       "      <td>2008</td>\n",
       "      <td>IMPERIAL VALLEY COLLEGE</td>\n",
       "      <td>California Community Colleges (CCC)</td>\n",
       "      <td>Hispanic/ Latino</td>\n",
       "      <td>13.0</td>\n",
       "      <td>27</td>\n",
       "      <td>3.0</td>\n",
       "    </tr>\n",
       "    <tr>\n",
       "      <th>2</th>\n",
       "      <td>ALLAN HANCOCK COLLEGE4002</td>\n",
       "      <td>Universitywide</td>\n",
       "      <td>Santa Maria</td>\n",
       "      <td>Santa Barbara</td>\n",
       "      <td>2012</td>\n",
       "      <td>ALLAN HANCOCK COLLEGE</td>\n",
       "      <td>California Community Colleges (CCC)</td>\n",
       "      <td>White</td>\n",
       "      <td>97.0</td>\n",
       "      <td>133</td>\n",
       "      <td>65.0</td>\n",
       "    </tr>\n",
       "    <tr>\n",
       "      <th>3</th>\n",
       "      <td>AMERICAN RIVER COLLEGE4004</td>\n",
       "      <td>Berkeley</td>\n",
       "      <td>Sacramento</td>\n",
       "      <td>Sacramento</td>\n",
       "      <td>1996</td>\n",
       "      <td>AMERICAN RIVER COLLEGE</td>\n",
       "      <td>California Community Colleges (CCC)</td>\n",
       "      <td>Hispanic/ Latino</td>\n",
       "      <td>8.0</td>\n",
       "      <td>14</td>\n",
       "      <td>6.0</td>\n",
       "    </tr>\n",
       "    <tr>\n",
       "      <th>4</th>\n",
       "      <td>CUESTA COLLEGE4101</td>\n",
       "      <td>Santa Barbara</td>\n",
       "      <td>San Luis Obispo</td>\n",
       "      <td>San Luis Obispo</td>\n",
       "      <td>2013</td>\n",
       "      <td>CUESTA COLLEGE</td>\n",
       "      <td>California Community Colleges (CCC)</td>\n",
       "      <td>All</td>\n",
       "      <td>122.0</td>\n",
       "      <td>262</td>\n",
       "      <td>42.0</td>\n",
       "    </tr>\n",
       "  </tbody>\n",
       "</table>\n",
       "</div>"
      ],
      "text/plain": [
       "                 ﻿Calculation1          Campus             City  \\\n",
       "0            BUTTE COLLEGE4226           Davis         Oroville   \n",
       "1  IMPERIAL VALLEY COLLEGE4358       Riverside         Imperial   \n",
       "2    ALLAN HANCOCK COLLEGE4002  Universitywide      Santa Maria   \n",
       "3   AMERICAN RIVER COLLEGE4004        Berkeley       Sacramento   \n",
       "4           CUESTA COLLEGE4101   Santa Barbara  San Luis Obispo   \n",
       "\n",
       "  County/State/ Territory  Fall Term                   School  \\\n",
       "0                   Butte       2007            BUTTE COLLEGE   \n",
       "1                Imperial       2008  IMPERIAL VALLEY COLLEGE   \n",
       "2           Santa Barbara       2012    ALLAN HANCOCK COLLEGE   \n",
       "3              Sacramento       1996   AMERICAN RIVER COLLEGE   \n",
       "4         San Luis Obispo       2013           CUESTA COLLEGE   \n",
       "\n",
       "                            Sch Src TR Uad Uc Ethn 6 Cat  adm (SUM)  \\\n",
       "0  California Community Colleges (CCC)             White       22.0   \n",
       "1  California Community Colleges (CCC)  Hispanic/ Latino       13.0   \n",
       "2  California Community Colleges (CCC)             White       97.0   \n",
       "3  California Community Colleges (CCC)  Hispanic/ Latino        8.0   \n",
       "4  California Community Colleges (CCC)               All      122.0   \n",
       "\n",
       "   app (SUM)  enr (SUM)  \n",
       "0         32        4.0  \n",
       "1         27        3.0  \n",
       "2        133       65.0  \n",
       "3         14        6.0  \n",
       "4        262       42.0  "
      ]
     },
     "execution_count": 4,
     "metadata": {},
     "output_type": "execute_result"
    }
   ],
   "source": [
    "transfers.head()"
   ]
  },
  {
   "cell_type": "code",
   "execution_count": 5,
   "metadata": {
    "collapsed": false
   },
   "outputs": [
    {
     "data": {
      "text/html": [
       "<div>\n",
       "<table border=\"1\" class=\"dataframe\">\n",
       "  <thead>\n",
       "    <tr style=\"text-align: right;\">\n",
       "      <th></th>\n",
       "      <th>﻿Calculation1</th>\n",
       "      <th>Campus</th>\n",
       "      <th>City</th>\n",
       "      <th>County/State/ Territory</th>\n",
       "      <th>Fall Term</th>\n",
       "      <th>School</th>\n",
       "      <th>Sch Src FR</th>\n",
       "      <th>Uad Uc Ethn 6 Cat</th>\n",
       "      <th>adm (SUM)</th>\n",
       "      <th>app (SUM)</th>\n",
       "      <th>enr (SUM)</th>\n",
       "    </tr>\n",
       "  </thead>\n",
       "  <tbody>\n",
       "    <tr>\n",
       "      <th>0</th>\n",
       "      <td>F BRAVO MEDICAL MAGNET HS51719</td>\n",
       "      <td>Riverside</td>\n",
       "      <td>Los Angeles</td>\n",
       "      <td>Los Angeles</td>\n",
       "      <td>2008</td>\n",
       "      <td>F BRAVO MEDICAL MAGNET HS</td>\n",
       "      <td>California Public High School</td>\n",
       "      <td>Hispanic/ Latino</td>\n",
       "      <td>39.0</td>\n",
       "      <td>50</td>\n",
       "      <td>10.0</td>\n",
       "    </tr>\n",
       "    <tr>\n",
       "      <th>1</th>\n",
       "      <td>ARAGON HIGH SCHOOL53163</td>\n",
       "      <td>Santa Barbara</td>\n",
       "      <td>San Mateo</td>\n",
       "      <td>San Mateo</td>\n",
       "      <td>2012</td>\n",
       "      <td>ARAGON HIGH SCHOOL</td>\n",
       "      <td>California Public High School</td>\n",
       "      <td>Asian</td>\n",
       "      <td>28.0</td>\n",
       "      <td>53</td>\n",
       "      <td>4.0</td>\n",
       "    </tr>\n",
       "    <tr>\n",
       "      <th>2</th>\n",
       "      <td>ETIWANDA HIGH SCHOOL50888</td>\n",
       "      <td>San Diego</td>\n",
       "      <td>Etiwanda</td>\n",
       "      <td>San Bernardino</td>\n",
       "      <td>2012</td>\n",
       "      <td>ETIWANDA HIGH SCHOOL</td>\n",
       "      <td>California Public High School</td>\n",
       "      <td>Asian</td>\n",
       "      <td>11.0</td>\n",
       "      <td>34</td>\n",
       "      <td>4.0</td>\n",
       "    </tr>\n",
       "    <tr>\n",
       "      <th>3</th>\n",
       "      <td>UPLAND HIGH SCHOOL53586</td>\n",
       "      <td>Merced</td>\n",
       "      <td>Upland</td>\n",
       "      <td>San Bernardino</td>\n",
       "      <td>2005</td>\n",
       "      <td>UPLAND HIGH SCHOOL</td>\n",
       "      <td>California Public High School</td>\n",
       "      <td>Asian</td>\n",
       "      <td>6.0</td>\n",
       "      <td>7</td>\n",
       "      <td>NaN</td>\n",
       "    </tr>\n",
       "    <tr>\n",
       "      <th>4</th>\n",
       "      <td>MORNINGSIDE HIGH SCHOOL51262</td>\n",
       "      <td>Los Angeles</td>\n",
       "      <td>Inglewood</td>\n",
       "      <td>Los Angeles</td>\n",
       "      <td>2006</td>\n",
       "      <td>MORNINGSIDE HIGH SCHOOL</td>\n",
       "      <td>California Public High School</td>\n",
       "      <td>All</td>\n",
       "      <td>5.0</td>\n",
       "      <td>22</td>\n",
       "      <td>NaN</td>\n",
       "    </tr>\n",
       "  </tbody>\n",
       "</table>\n",
       "</div>"
      ],
      "text/plain": [
       "                    ﻿Calculation1         Campus         City  \\\n",
       "0  F BRAVO MEDICAL MAGNET HS51719      Riverside  Los Angeles   \n",
       "1         ARAGON HIGH SCHOOL53163  Santa Barbara    San Mateo   \n",
       "2       ETIWANDA HIGH SCHOOL50888      San Diego     Etiwanda   \n",
       "3         UPLAND HIGH SCHOOL53586         Merced       Upland   \n",
       "4    MORNINGSIDE HIGH SCHOOL51262    Los Angeles    Inglewood   \n",
       "\n",
       "  County/State/ Territory  Fall Term                     School  \\\n",
       "0             Los Angeles       2008  F BRAVO MEDICAL MAGNET HS   \n",
       "1               San Mateo       2012         ARAGON HIGH SCHOOL   \n",
       "2          San Bernardino       2012       ETIWANDA HIGH SCHOOL   \n",
       "3          San Bernardino       2005         UPLAND HIGH SCHOOL   \n",
       "4             Los Angeles       2006    MORNINGSIDE HIGH SCHOOL   \n",
       "\n",
       "                      Sch Src FR Uad Uc Ethn 6 Cat  adm (SUM)  app (SUM)  \\\n",
       "0  California Public High School  Hispanic/ Latino       39.0         50   \n",
       "1  California Public High School             Asian       28.0         53   \n",
       "2  California Public High School             Asian       11.0         34   \n",
       "3  California Public High School             Asian        6.0          7   \n",
       "4  California Public High School               All        5.0         22   \n",
       "\n",
       "   enr (SUM)  \n",
       "0       10.0  \n",
       "1        4.0  \n",
       "2        4.0  \n",
       "3        NaN  \n",
       "4        NaN  "
      ]
     },
     "execution_count": 5,
     "metadata": {},
     "output_type": "execute_result"
    }
   ],
   "source": [
    "freshmen.head()"
   ]
  },
  {
   "cell_type": "code",
   "execution_count": 6,
   "metadata": {
    "collapsed": false
   },
   "outputs": [
    {
     "data": {
      "text/plain": [
       "6014"
      ]
     },
     "execution_count": 6,
     "metadata": {},
     "output_type": "execute_result"
    }
   ],
   "source": [
    "gpa_school = gpa[\"School\"].unique()\n",
    "len(gpa_school)"
   ]
  },
  {
   "cell_type": "code",
   "execution_count": 7,
   "metadata": {
    "collapsed": false
   },
   "outputs": [
    {
     "data": {
      "text/plain": [
       "591"
      ]
     },
     "execution_count": 7,
     "metadata": {},
     "output_type": "execute_result"
    }
   ],
   "source": [
    "transfers_school = transfers[\"School\"].unique()\n",
    "len(transfers_school)"
   ]
  },
  {
   "cell_type": "code",
   "execution_count": 8,
   "metadata": {
    "collapsed": false
   },
   "outputs": [
    {
     "data": {
      "text/plain": [
       "4911"
      ]
     },
     "execution_count": 8,
     "metadata": {},
     "output_type": "execute_result"
    }
   ],
   "source": [
    "freshmen_school = freshmen[\"School\"].unique()\n",
    "len(freshmen_school)"
   ]
  },
  {
   "cell_type": "code",
   "execution_count": 9,
   "metadata": {
    "collapsed": false
   },
   "outputs": [
    {
     "data": {
      "text/plain": [
       "24"
      ]
     },
     "execution_count": 9,
     "metadata": {},
     "output_type": "execute_result"
    }
   ],
   "source": [
    "gpa_terms = gpa[\"Fall Term\"].unique()\n",
    "len(gpa_terms)"
   ]
  },
  {
   "cell_type": "code",
   "execution_count": 10,
   "metadata": {
    "collapsed": false
   },
   "outputs": [
    {
     "data": {
      "text/plain": [
       "24"
      ]
     },
     "execution_count": 10,
     "metadata": {},
     "output_type": "execute_result"
    }
   ],
   "source": [
    "transfers_terms = transfers[\"Fall Term\"].unique()\n",
    "len(transfers_terms)"
   ]
  },
  {
   "cell_type": "code",
   "execution_count": 11,
   "metadata": {
    "collapsed": false
   },
   "outputs": [
    {
     "data": {
      "text/plain": [
       "24"
      ]
     },
     "execution_count": 11,
     "metadata": {},
     "output_type": "execute_result"
    }
   ],
   "source": [
    "freshmen_terms = freshmen[\"Fall Term\"].unique()\n",
    "len(freshmen_terms)"
   ]
  },
  {
   "cell_type": "code",
   "execution_count": 12,
   "metadata": {
    "collapsed": false
   },
   "outputs": [
    {
     "data": {
      "text/plain": [
       "36"
      ]
     },
     "execution_count": 12,
     "metadata": {},
     "output_type": "execute_result"
    }
   ],
   "source": [
    "all3 = []\n",
    "for x in gpa_school:\n",
    "    if x in transfers_school and x in freshmen_school:\n",
    "        all3.append(x)\n",
    "len(all3)"
   ]
  },
  {
   "cell_type": "code",
   "execution_count": 13,
   "metadata": {
    "collapsed": false
   },
   "outputs": [
    {
     "data": {
      "text/plain": [
       "553"
      ]
     },
     "execution_count": 13,
     "metadata": {},
     "output_type": "execute_result"
    }
   ],
   "source": [
    "g_t = []\n",
    "for x in gpa_school:\n",
    "    if x in transfers_school:\n",
    "        g_t.append(x)\n",
    "len(g_t)"
   ]
  },
  {
   "cell_type": "code",
   "execution_count": 14,
   "metadata": {
    "collapsed": false
   },
   "outputs": [
    {
     "data": {
      "text/plain": [
       "4707"
      ]
     },
     "execution_count": 14,
     "metadata": {},
     "output_type": "execute_result"
    }
   ],
   "source": [
    "g_f = []\n",
    "for x in gpa_school:\n",
    "    if x in freshmen_school:\n",
    "        g_f.append(x)\n",
    "len(g_f)"
   ]
  },
  {
   "cell_type": "code",
   "execution_count": 15,
   "metadata": {
    "collapsed": false
   },
   "outputs": [
    {
     "data": {
      "text/plain": [
       "36"
      ]
     },
     "execution_count": 15,
     "metadata": {},
     "output_type": "execute_result"
    }
   ],
   "source": [
    "t_f = []\n",
    "for x in transfers_school:\n",
    "    if x in freshmen_school:\n",
    "        t_f.append(x)\n",
    "len(t_f)"
   ]
  },
  {
   "cell_type": "code",
   "execution_count": 16,
   "metadata": {
    "collapsed": false
   },
   "outputs": [
    {
     "data": {
      "text/plain": [
       "790"
      ]
     },
     "execution_count": 16,
     "metadata": {},
     "output_type": "execute_result"
    }
   ],
   "source": [
    "just_g = []\n",
    "for x in gpa_school:\n",
    "    if x not in transfers_school and x not in freshmen_school:\n",
    "        just_g.append(x)\n",
    "len(just_g)"
   ]
  },
  {
   "cell_type": "code",
   "execution_count": 17,
   "metadata": {
    "collapsed": false
   },
   "outputs": [
    {
     "data": {
      "text/plain": [
       "38"
      ]
     },
     "execution_count": 17,
     "metadata": {},
     "output_type": "execute_result"
    }
   ],
   "source": [
    "just_t = []\n",
    "for x in transfers_school:\n",
    "    if x not in gpa_school and x not in freshmen_school:\n",
    "        just_t.append(x)\n",
    "len(just_t)"
   ]
  },
  {
   "cell_type": "code",
   "execution_count": 18,
   "metadata": {
    "collapsed": false
   },
   "outputs": [
    {
     "data": {
      "text/plain": [
       "204"
      ]
     },
     "execution_count": 18,
     "metadata": {},
     "output_type": "execute_result"
    }
   ],
   "source": [
    "just_f = []\n",
    "for x in freshmen_school:\n",
    "    if x not in gpa_school and x not in transfers_school:\n",
    "        just_f.append(x)\n",
    "len(just_f)"
   ]
  },
  {
   "cell_type": "code",
   "execution_count": 19,
   "metadata": {
    "collapsed": false
   },
   "outputs": [
    {
     "data": {
      "text/html": [
       "<div>\n",
       "<table border=\"1\" class=\"dataframe\">\n",
       "  <thead>\n",
       "    <tr style=\"text-align: right;\">\n",
       "      <th></th>\n",
       "      <th>﻿Calculation1</th>\n",
       "      <th>Campus</th>\n",
       "      <th>City</th>\n",
       "      <th>Fall Term</th>\n",
       "      <th>Level</th>\n",
       "      <th>School</th>\n",
       "      <th>Adm GPA (SUM)</th>\n",
       "      <th>App GPA (SUM)</th>\n",
       "      <th>Enrl GPA (SUM)</th>\n",
       "    </tr>\n",
       "    <tr>\n",
       "      <th>County/State/Country</th>\n",
       "      <th></th>\n",
       "      <th></th>\n",
       "      <th></th>\n",
       "      <th></th>\n",
       "      <th></th>\n",
       "      <th></th>\n",
       "      <th></th>\n",
       "      <th></th>\n",
       "      <th></th>\n",
       "    </tr>\n",
       "  </thead>\n",
       "  <tbody>\n",
       "    <tr>\n",
       "      <th>Los Angeles</th>\n",
       "      <td>71770</td>\n",
       "      <td>71770</td>\n",
       "      <td>71770</td>\n",
       "      <td>71770</td>\n",
       "      <td>71770</td>\n",
       "      <td>71770</td>\n",
       "      <td>54359</td>\n",
       "      <td>71770</td>\n",
       "      <td>23965</td>\n",
       "    </tr>\n",
       "    <tr>\n",
       "      <th>San Diego</th>\n",
       "      <td>19804</td>\n",
       "      <td>19804</td>\n",
       "      <td>19804</td>\n",
       "      <td>19804</td>\n",
       "      <td>19804</td>\n",
       "      <td>19804</td>\n",
       "      <td>16029</td>\n",
       "      <td>19804</td>\n",
       "      <td>7368</td>\n",
       "    </tr>\n",
       "    <tr>\n",
       "      <th>Orange</th>\n",
       "      <td>19773</td>\n",
       "      <td>19773</td>\n",
       "      <td>19773</td>\n",
       "      <td>19773</td>\n",
       "      <td>19773</td>\n",
       "      <td>19773</td>\n",
       "      <td>17093</td>\n",
       "      <td>19773</td>\n",
       "      <td>9040</td>\n",
       "    </tr>\n",
       "    <tr>\n",
       "      <th>Santa Clara</th>\n",
       "      <td>13514</td>\n",
       "      <td>13514</td>\n",
       "      <td>13514</td>\n",
       "      <td>13514</td>\n",
       "      <td>13514</td>\n",
       "      <td>13514</td>\n",
       "      <td>11802</td>\n",
       "      <td>13514</td>\n",
       "      <td>6194</td>\n",
       "    </tr>\n",
       "    <tr>\n",
       "      <th>Alameda</th>\n",
       "      <td>12830</td>\n",
       "      <td>12830</td>\n",
       "      <td>12830</td>\n",
       "      <td>12830</td>\n",
       "      <td>12830</td>\n",
       "      <td>12830</td>\n",
       "      <td>10171</td>\n",
       "      <td>12830</td>\n",
       "      <td>5067</td>\n",
       "    </tr>\n",
       "  </tbody>\n",
       "</table>\n",
       "</div>"
      ],
      "text/plain": [
       "                      ﻿Calculation1  Campus   City  Fall Term  Level  School  \\\n",
       "County/State/Country                                                           \n",
       "Los Angeles                   71770   71770  71770      71770  71770   71770   \n",
       "San Diego                     19804   19804  19804      19804  19804   19804   \n",
       "Orange                        19773   19773  19773      19773  19773   19773   \n",
       "Santa Clara                   13514   13514  13514      13514  13514   13514   \n",
       "Alameda                       12830   12830  12830      12830  12830   12830   \n",
       "\n",
       "                      Adm GPA (SUM)  App GPA (SUM)  Enrl GPA (SUM)  \n",
       "County/State/Country                                                \n",
       "Los Angeles                   54359          71770           23965  \n",
       "San Diego                     16029          19804            7368  \n",
       "Orange                        17093          19773            9040  \n",
       "Santa Clara                   11802          13514            6194  \n",
       "Alameda                       10171          12830            5067  "
      ]
     },
     "execution_count": 19,
     "metadata": {},
     "output_type": "execute_result"
    }
   ],
   "source": [
    "gpa.groupby([\"County/State/Country\"]).count().sort_values(by=\"City\", ascending=False).head()"
   ]
  },
  {
   "cell_type": "code",
   "execution_count": 20,
   "metadata": {
    "collapsed": false
   },
   "outputs": [
    {
     "data": {
      "text/html": [
       "<div>\n",
       "<table border=\"1\" class=\"dataframe\">\n",
       "  <thead>\n",
       "    <tr style=\"text-align: right;\">\n",
       "      <th></th>\n",
       "      <th>﻿Calculation1</th>\n",
       "      <th>Campus</th>\n",
       "      <th>City</th>\n",
       "      <th>Fall Term</th>\n",
       "      <th>School</th>\n",
       "      <th>Sch Src TR</th>\n",
       "      <th>Uad Uc Ethn 6 Cat</th>\n",
       "      <th>adm (SUM)</th>\n",
       "      <th>app (SUM)</th>\n",
       "      <th>enr (SUM)</th>\n",
       "    </tr>\n",
       "    <tr>\n",
       "      <th>County/State/ Territory</th>\n",
       "      <th></th>\n",
       "      <th></th>\n",
       "      <th></th>\n",
       "      <th></th>\n",
       "      <th></th>\n",
       "      <th></th>\n",
       "      <th></th>\n",
       "      <th></th>\n",
       "      <th></th>\n",
       "      <th></th>\n",
       "    </tr>\n",
       "  </thead>\n",
       "  <tbody>\n",
       "    <tr>\n",
       "      <th>Los Angeles</th>\n",
       "      <td>22482</td>\n",
       "      <td>22482</td>\n",
       "      <td>22482</td>\n",
       "      <td>22482</td>\n",
       "      <td>22482</td>\n",
       "      <td>22482</td>\n",
       "      <td>22482</td>\n",
       "      <td>19550</td>\n",
       "      <td>22482</td>\n",
       "      <td>12670</td>\n",
       "    </tr>\n",
       "    <tr>\n",
       "      <th>Orange</th>\n",
       "      <td>9504</td>\n",
       "      <td>9504</td>\n",
       "      <td>9504</td>\n",
       "      <td>9504</td>\n",
       "      <td>9504</td>\n",
       "      <td>9504</td>\n",
       "      <td>9504</td>\n",
       "      <td>8445</td>\n",
       "      <td>9504</td>\n",
       "      <td>5834</td>\n",
       "    </tr>\n",
       "    <tr>\n",
       "      <th>San Diego</th>\n",
       "      <td>8218</td>\n",
       "      <td>8218</td>\n",
       "      <td>8218</td>\n",
       "      <td>8218</td>\n",
       "      <td>8218</td>\n",
       "      <td>8218</td>\n",
       "      <td>8218</td>\n",
       "      <td>7070</td>\n",
       "      <td>8218</td>\n",
       "      <td>4697</td>\n",
       "    </tr>\n",
       "    <tr>\n",
       "      <th>Alameda</th>\n",
       "      <td>6686</td>\n",
       "      <td>6686</td>\n",
       "      <td>6686</td>\n",
       "      <td>6686</td>\n",
       "      <td>6686</td>\n",
       "      <td>6686</td>\n",
       "      <td>6686</td>\n",
       "      <td>5957</td>\n",
       "      <td>6686</td>\n",
       "      <td>3661</td>\n",
       "    </tr>\n",
       "    <tr>\n",
       "      <th>Santa Clara</th>\n",
       "      <td>6119</td>\n",
       "      <td>6119</td>\n",
       "      <td>6119</td>\n",
       "      <td>6119</td>\n",
       "      <td>6119</td>\n",
       "      <td>6119</td>\n",
       "      <td>6119</td>\n",
       "      <td>5472</td>\n",
       "      <td>6119</td>\n",
       "      <td>3661</td>\n",
       "    </tr>\n",
       "  </tbody>\n",
       "</table>\n",
       "</div>"
      ],
      "text/plain": [
       "                         ﻿Calculation1  Campus   City  Fall Term  School  \\\n",
       "County/State/ Territory                                                    \n",
       "Los Angeles                      22482   22482  22482      22482   22482   \n",
       "Orange                            9504    9504   9504       9504    9504   \n",
       "San Diego                         8218    8218   8218       8218    8218   \n",
       "Alameda                           6686    6686   6686       6686    6686   \n",
       "Santa Clara                       6119    6119   6119       6119    6119   \n",
       "\n",
       "                         Sch Src TR  Uad Uc Ethn 6 Cat  adm (SUM)  app (SUM)  \\\n",
       "County/State/ Territory                                                        \n",
       "Los Angeles                   22482              22482      19550      22482   \n",
       "Orange                         9504               9504       8445       9504   \n",
       "San Diego                      8218               8218       7070       8218   \n",
       "Alameda                        6686               6686       5957       6686   \n",
       "Santa Clara                    6119               6119       5472       6119   \n",
       "\n",
       "                         enr (SUM)  \n",
       "County/State/ Territory             \n",
       "Los Angeles                  12670  \n",
       "Orange                        5834  \n",
       "San Diego                     4697  \n",
       "Alameda                       3661  \n",
       "Santa Clara                   3661  "
      ]
     },
     "execution_count": 20,
     "metadata": {},
     "output_type": "execute_result"
    }
   ],
   "source": [
    "transfers.groupby([\"County/State/ Territory\"]).count().sort_values(by=\"City\", ascending=False).head()"
   ]
  },
  {
   "cell_type": "code",
   "execution_count": 21,
   "metadata": {
    "collapsed": false
   },
   "outputs": [
    {
     "data": {
      "text/html": [
       "<div>\n",
       "<table border=\"1\" class=\"dataframe\">\n",
       "  <thead>\n",
       "    <tr style=\"text-align: right;\">\n",
       "      <th></th>\n",
       "      <th>﻿Calculation1</th>\n",
       "      <th>Campus</th>\n",
       "      <th>City</th>\n",
       "      <th>Fall Term</th>\n",
       "      <th>School</th>\n",
       "      <th>Sch Src FR</th>\n",
       "      <th>Uad Uc Ethn 6 Cat</th>\n",
       "      <th>adm (SUM)</th>\n",
       "      <th>app (SUM)</th>\n",
       "      <th>enr (SUM)</th>\n",
       "    </tr>\n",
       "    <tr>\n",
       "      <th>County/State/ Territory</th>\n",
       "      <th></th>\n",
       "      <th></th>\n",
       "      <th></th>\n",
       "      <th></th>\n",
       "      <th></th>\n",
       "      <th></th>\n",
       "      <th></th>\n",
       "      <th></th>\n",
       "      <th></th>\n",
       "      <th></th>\n",
       "    </tr>\n",
       "  </thead>\n",
       "  <tbody>\n",
       "    <tr>\n",
       "      <th>Los Angeles</th>\n",
       "      <td>150260</td>\n",
       "      <td>150260</td>\n",
       "      <td>150260</td>\n",
       "      <td>150260</td>\n",
       "      <td>150260</td>\n",
       "      <td>150260</td>\n",
       "      <td>150260</td>\n",
       "      <td>123226</td>\n",
       "      <td>150260</td>\n",
       "      <td>60732</td>\n",
       "    </tr>\n",
       "    <tr>\n",
       "      <th>Orange</th>\n",
       "      <td>47347</td>\n",
       "      <td>47347</td>\n",
       "      <td>47347</td>\n",
       "      <td>47347</td>\n",
       "      <td>47347</td>\n",
       "      <td>47347</td>\n",
       "      <td>47347</td>\n",
       "      <td>40374</td>\n",
       "      <td>47347</td>\n",
       "      <td>21798</td>\n",
       "    </tr>\n",
       "    <tr>\n",
       "      <th>San Diego</th>\n",
       "      <td>43742</td>\n",
       "      <td>43742</td>\n",
       "      <td>43742</td>\n",
       "      <td>43742</td>\n",
       "      <td>43742</td>\n",
       "      <td>43742</td>\n",
       "      <td>43742</td>\n",
       "      <td>36892</td>\n",
       "      <td>43742</td>\n",
       "      <td>18535</td>\n",
       "    </tr>\n",
       "    <tr>\n",
       "      <th>Santa Clara</th>\n",
       "      <td>32608</td>\n",
       "      <td>32608</td>\n",
       "      <td>32608</td>\n",
       "      <td>32608</td>\n",
       "      <td>32608</td>\n",
       "      <td>32608</td>\n",
       "      <td>32608</td>\n",
       "      <td>28062</td>\n",
       "      <td>32608</td>\n",
       "      <td>14919</td>\n",
       "    </tr>\n",
       "    <tr>\n",
       "      <th>Alameda</th>\n",
       "      <td>27553</td>\n",
       "      <td>27553</td>\n",
       "      <td>27553</td>\n",
       "      <td>27553</td>\n",
       "      <td>27553</td>\n",
       "      <td>27553</td>\n",
       "      <td>27553</td>\n",
       "      <td>22743</td>\n",
       "      <td>27553</td>\n",
       "      <td>12046</td>\n",
       "    </tr>\n",
       "  </tbody>\n",
       "</table>\n",
       "</div>"
      ],
      "text/plain": [
       "                         ﻿Calculation1  Campus    City  Fall Term  School  \\\n",
       "County/State/ Territory                                                     \n",
       "Los Angeles                     150260  150260  150260     150260  150260   \n",
       "Orange                           47347   47347   47347      47347   47347   \n",
       "San Diego                        43742   43742   43742      43742   43742   \n",
       "Santa Clara                      32608   32608   32608      32608   32608   \n",
       "Alameda                          27553   27553   27553      27553   27553   \n",
       "\n",
       "                         Sch Src FR  Uad Uc Ethn 6 Cat  adm (SUM)  app (SUM)  \\\n",
       "County/State/ Territory                                                        \n",
       "Los Angeles                  150260             150260     123226     150260   \n",
       "Orange                        47347              47347      40374      47347   \n",
       "San Diego                     43742              43742      36892      43742   \n",
       "Santa Clara                   32608              32608      28062      32608   \n",
       "Alameda                       27553              27553      22743      27553   \n",
       "\n",
       "                         enr (SUM)  \n",
       "County/State/ Territory             \n",
       "Los Angeles                  60732  \n",
       "Orange                       21798  \n",
       "San Diego                    18535  \n",
       "Santa Clara                  14919  \n",
       "Alameda                      12046  "
      ]
     },
     "execution_count": 21,
     "metadata": {},
     "output_type": "execute_result"
    }
   ],
   "source": [
    "freshmen.groupby([\"County/State/ Territory\"]).count().sort_values(by=\"City\", ascending=False).head()"
   ]
  },
  {
   "cell_type": "code",
   "execution_count": 22,
   "metadata": {
    "collapsed": false
   },
   "outputs": [
    {
     "data": {
      "text/plain": [
       "School\n",
       "MAXWELL HIGH SCHOOL         1.0\n",
       "JENSEN BEACH HIGH SCHOOL    1.0\n",
       "PORTER-GAUD SCHOOL          1.0\n",
       "GRANTS PASS HIGH SCHOOL     1.0\n",
       "EL SERENO HIGH SCHOOL       1.0\n",
       "dtype: float64"
      ]
     },
     "execution_count": 22,
     "metadata": {},
     "output_type": "execute_result"
    }
   ],
   "source": [
    "combined_fresh = freshmen.groupby(\"School\").sum()\n",
    "series_f = combined_fresh['adm (SUM)']/combined_fresh['app (SUM)']\n",
    "series_f.sort_values(ascending=False).head()"
   ]
  },
  {
   "cell_type": "code",
   "execution_count": 23,
   "metadata": {
    "collapsed": false
   },
   "outputs": [
    {
     "data": {
      "text/html": [
       "<div>\n",
       "<table border=\"1\" class=\"dataframe\">\n",
       "  <thead>\n",
       "    <tr style=\"text-align: right;\">\n",
       "      <th></th>\n",
       "      <th>﻿Calculation1</th>\n",
       "      <th>Campus</th>\n",
       "      <th>City</th>\n",
       "      <th>County/State/ Territory</th>\n",
       "      <th>Fall Term</th>\n",
       "      <th>School</th>\n",
       "      <th>Sch Src FR</th>\n",
       "      <th>Uad Uc Ethn 6 Cat</th>\n",
       "      <th>adm (SUM)</th>\n",
       "      <th>app (SUM)</th>\n",
       "      <th>enr (SUM)</th>\n",
       "    </tr>\n",
       "  </thead>\n",
       "  <tbody>\n",
       "    <tr>\n",
       "      <th>60279</th>\n",
       "      <td>MAXWELL HIGH SCHOOL51930</td>\n",
       "      <td>Universitywide</td>\n",
       "      <td>Maxwell</td>\n",
       "      <td>Colusa</td>\n",
       "      <td>2003</td>\n",
       "      <td>MAXWELL HIGH SCHOOL</td>\n",
       "      <td>California Public High School</td>\n",
       "      <td>All</td>\n",
       "      <td>5.0</td>\n",
       "      <td>5</td>\n",
       "      <td>3.0</td>\n",
       "    </tr>\n",
       "    <tr>\n",
       "      <th>200997</th>\n",
       "      <td>MAXWELL HIGH SCHOOL51930</td>\n",
       "      <td>Universitywide</td>\n",
       "      <td>Maxwell</td>\n",
       "      <td>Colusa</td>\n",
       "      <td>2010</td>\n",
       "      <td>MAXWELL HIGH SCHOOL</td>\n",
       "      <td>California Public High School</td>\n",
       "      <td>All</td>\n",
       "      <td>5.0</td>\n",
       "      <td>5</td>\n",
       "      <td>NaN</td>\n",
       "    </tr>\n",
       "    <tr>\n",
       "      <th>363148</th>\n",
       "      <td>MAXWELL HIGH SCHOOL51930</td>\n",
       "      <td>Davis</td>\n",
       "      <td>Maxwell</td>\n",
       "      <td>Colusa</td>\n",
       "      <td>2003</td>\n",
       "      <td>MAXWELL HIGH SCHOOL</td>\n",
       "      <td>California Public High School</td>\n",
       "      <td>All</td>\n",
       "      <td>5.0</td>\n",
       "      <td>5</td>\n",
       "      <td>NaN</td>\n",
       "    </tr>\n",
       "  </tbody>\n",
       "</table>\n",
       "</div>"
      ],
      "text/plain": [
       "                   ﻿Calculation1          Campus     City  \\\n",
       "60279   MAXWELL HIGH SCHOOL51930  Universitywide  Maxwell   \n",
       "200997  MAXWELL HIGH SCHOOL51930  Universitywide  Maxwell   \n",
       "363148  MAXWELL HIGH SCHOOL51930           Davis  Maxwell   \n",
       "\n",
       "       County/State/ Territory  Fall Term               School  \\\n",
       "60279                   Colusa       2003  MAXWELL HIGH SCHOOL   \n",
       "200997                  Colusa       2010  MAXWELL HIGH SCHOOL   \n",
       "363148                  Colusa       2003  MAXWELL HIGH SCHOOL   \n",
       "\n",
       "                           Sch Src FR Uad Uc Ethn 6 Cat  adm (SUM)  app (SUM)  \\\n",
       "60279   California Public High School               All        5.0          5   \n",
       "200997  California Public High School               All        5.0          5   \n",
       "363148  California Public High School               All        5.0          5   \n",
       "\n",
       "        enr (SUM)  \n",
       "60279         3.0  \n",
       "200997        NaN  \n",
       "363148        NaN  "
      ]
     },
     "execution_count": 23,
     "metadata": {},
     "output_type": "execute_result"
    }
   ],
   "source": [
    "freshmen.loc[freshmen['School'] == \"MAXWELL HIGH SCHOOL\"]"
   ]
  },
  {
   "cell_type": "code",
   "execution_count": 24,
   "metadata": {
    "collapsed": false
   },
   "outputs": [
    {
     "data": {
      "text/plain": [
       "School\n",
       "INTRNATL CHRISTIAN UNIV JAPAN    1.000000\n",
       "UC LOS ANGELES HONORS PROG       1.000000\n",
       "UC BERKELEY SUMMER SESSION       1.000000\n",
       "INSTITUTION IN EUROPE            0.945133\n",
       "YAVAPAI COLLEGE                  0.944444\n",
       "dtype: float64"
      ]
     },
     "execution_count": 24,
     "metadata": {},
     "output_type": "execute_result"
    }
   ],
   "source": [
    "combined_transfers = transfers.groupby(\"School\").sum()\n",
    "series_t = combined_transfers['adm (SUM)']/combined_transfers['app (SUM)']\n",
    "series_t.sort_values(ascending=False).head()"
   ]
  },
  {
   "cell_type": "code",
   "execution_count": 25,
   "metadata": {
    "collapsed": false
   },
   "outputs": [
    {
     "data": {
      "text/html": [
       "<div>\n",
       "<table border=\"1\" class=\"dataframe\">\n",
       "  <thead>\n",
       "    <tr style=\"text-align: right;\">\n",
       "      <th></th>\n",
       "      <th>﻿Calculation1</th>\n",
       "      <th>Campus</th>\n",
       "      <th>City</th>\n",
       "      <th>County/State/ Territory</th>\n",
       "      <th>Fall Term</th>\n",
       "      <th>School</th>\n",
       "      <th>Sch Src TR</th>\n",
       "      <th>Uad Uc Ethn 6 Cat</th>\n",
       "      <th>adm (SUM)</th>\n",
       "      <th>app (SUM)</th>\n",
       "      <th>enr (SUM)</th>\n",
       "    </tr>\n",
       "  </thead>\n",
       "  <tbody>\n",
       "    <tr>\n",
       "      <th>21526</th>\n",
       "      <td>INTRNATL CHRISTIAN UNIV JAPAN860</td>\n",
       "      <td>Universitywide</td>\n",
       "      <td>NaN</td>\n",
       "      <td>JAPAN</td>\n",
       "      <td>1994</td>\n",
       "      <td>INTRNATL CHRISTIAN UNIV JAPAN</td>\n",
       "      <td>Foreign Institution</td>\n",
       "      <td>Inter- national</td>\n",
       "      <td>12.0</td>\n",
       "      <td>12</td>\n",
       "      <td>10.0</td>\n",
       "    </tr>\n",
       "    <tr>\n",
       "      <th>39443</th>\n",
       "      <td>INTRNATL CHRISTIAN UNIV JAPAN860</td>\n",
       "      <td>Universitywide</td>\n",
       "      <td>NaN</td>\n",
       "      <td>JAPAN</td>\n",
       "      <td>1994</td>\n",
       "      <td>INTRNATL CHRISTIAN UNIV JAPAN</td>\n",
       "      <td>Foreign Institution</td>\n",
       "      <td>All</td>\n",
       "      <td>14.0</td>\n",
       "      <td>14</td>\n",
       "      <td>12.0</td>\n",
       "    </tr>\n",
       "    <tr>\n",
       "      <th>72508</th>\n",
       "      <td>INTRNATL CHRISTIAN UNIV JAPAN860</td>\n",
       "      <td>Irvine</td>\n",
       "      <td>NaN</td>\n",
       "      <td>JAPAN</td>\n",
       "      <td>1994</td>\n",
       "      <td>INTRNATL CHRISTIAN UNIV JAPAN</td>\n",
       "      <td>Foreign Institution</td>\n",
       "      <td>All</td>\n",
       "      <td>10.0</td>\n",
       "      <td>10</td>\n",
       "      <td>10.0</td>\n",
       "    </tr>\n",
       "  </tbody>\n",
       "</table>\n",
       "</div>"
      ],
      "text/plain": [
       "                          ﻿Calculation1          Campus City  \\\n",
       "21526  INTRNATL CHRISTIAN UNIV JAPAN860  Universitywide  NaN   \n",
       "39443  INTRNATL CHRISTIAN UNIV JAPAN860  Universitywide  NaN   \n",
       "72508  INTRNATL CHRISTIAN UNIV JAPAN860          Irvine  NaN   \n",
       "\n",
       "      County/State/ Territory  Fall Term                         School  \\\n",
       "21526                   JAPAN       1994  INTRNATL CHRISTIAN UNIV JAPAN   \n",
       "39443                   JAPAN       1994  INTRNATL CHRISTIAN UNIV JAPAN   \n",
       "72508                   JAPAN       1994  INTRNATL CHRISTIAN UNIV JAPAN   \n",
       "\n",
       "                Sch Src TR Uad Uc Ethn 6 Cat  adm (SUM)  app (SUM)  enr (SUM)  \n",
       "21526  Foreign Institution   Inter- national       12.0         12       10.0  \n",
       "39443  Foreign Institution               All       14.0         14       12.0  \n",
       "72508  Foreign Institution               All       10.0         10       10.0  "
      ]
     },
     "execution_count": 25,
     "metadata": {},
     "output_type": "execute_result"
    }
   ],
   "source": [
    "transfers.loc[transfers['School'] == \"INTRNATL CHRISTIAN UNIV JAPAN\"]"
   ]
  },
  {
   "cell_type": "code",
   "execution_count": 26,
   "metadata": {
    "collapsed": false
   },
   "outputs": [],
   "source": [
    "combined_f_p_univ = freshmen.groupby([\"Campus\", \"School\"]).sum()\n",
    "series_f_p_univ = (combined_f_p_univ['adm (SUM)']/combined_f_p_univ['app (SUM)'])\n",
    "combined_t_p_univ = transfers.groupby([\"Campus\", \"School\"]).sum()\n",
    "series_t_p_univ = combined_t_p_univ['adm (SUM)']/combined_t_p_univ['app (SUM)']\n"
   ]
  },
  {
   "cell_type": "code",
   "execution_count": 27,
   "metadata": {
    "collapsed": false
   },
   "outputs": [
    {
     "name": "stdout",
     "output_type": "stream",
     "text": [
      "Berkeley\n"
     ]
    },
    {
     "data": {
      "text/plain": [
       "School\n",
       "HORIZON CHARTER SCHOOL       1.000000\n",
       "GRAFTON HIGH SCHOOL          1.000000\n",
       "ST MATTHAIS HIGH SCH         0.937500\n",
       "ACADEMY FOR BUS & FINANCE    0.869565\n",
       "DAVIDSON ACADEMY             0.833333\n",
       "dtype: float64"
      ]
     },
     "execution_count": 27,
     "metadata": {},
     "output_type": "execute_result"
    }
   ],
   "source": [
    "print(\"Berkeley\")\n",
    "series_f_p_univ[\"Berkeley\"].sort_values(ascending=False).head()"
   ]
  },
  {
   "cell_type": "code",
   "execution_count": 28,
   "metadata": {
    "collapsed": false
   },
   "outputs": [
    {
     "data": {
      "text/plain": [
       "School\n",
       "UC BERKELEY SUMMER SESSION        1.000000\n",
       "SCIENCES PO-PARIS INST PO STUD    0.944444\n",
       "UNITED STATES AIR FORCE ACAD      0.800000\n",
       "DEEP SPRINGS COLL                 0.666667\n",
       "WESTMONT COLLEGE                  0.600000\n",
       "dtype: float64"
      ]
     },
     "execution_count": 28,
     "metadata": {},
     "output_type": "execute_result"
    }
   ],
   "source": [
    "series_t_p_univ[\"Berkeley\"].sort_values(ascending=False).head()"
   ]
  },
  {
   "cell_type": "code",
   "execution_count": 29,
   "metadata": {
    "collapsed": false
   },
   "outputs": [
    {
     "name": "stdout",
     "output_type": "stream",
     "text": [
      "Riverside\n"
     ]
    },
    {
     "data": {
      "text/plain": [
       "School\n",
       "MOUNT DIABLO HIGH SCHOOL          1.0\n",
       "INTERNATIONAL CHRISTIAN SCHOOL    1.0\n",
       "ARMENIAN MESROBIAN HIGH SCHOOL    1.0\n",
       "SAINT MICHAELS PREP SCHOOL        1.0\n",
       "CASTILLEJA SCHOOL                 1.0\n",
       "dtype: float64"
      ]
     },
     "execution_count": 29,
     "metadata": {},
     "output_type": "execute_result"
    }
   ],
   "source": [
    "print(\"Riverside\")\n",
    "series_f_p_univ[\"Riverside\"].sort_values(ascending=False).head()"
   ]
  },
  {
   "cell_type": "code",
   "execution_count": 30,
   "metadata": {
    "collapsed": false
   },
   "outputs": [
    {
     "data": {
      "text/plain": [
       "School\n",
       "HIGHLINE COMMUNITY COLLEGE    1.000000\n",
       "COLLEGE OF THE REDWOODS       0.900000\n",
       "UNIV SAN DIEGO                0.900000\n",
       "MENDOCINO COLLEGE             0.833333\n",
       "COLUMBIA COLLEGE              0.833333\n",
       "dtype: float64"
      ]
     },
     "execution_count": 30,
     "metadata": {},
     "output_type": "execute_result"
    }
   ],
   "source": [
    "series_t_p_univ[\"Riverside\"].sort_values(ascending=False).head()"
   ]
  },
  {
   "cell_type": "code",
   "execution_count": 31,
   "metadata": {
    "collapsed": false
   },
   "outputs": [
    {
     "name": "stdout",
     "output_type": "stream",
     "text": [
      "Santa Barbara\n"
     ]
    },
    {
     "data": {
      "text/plain": [
       "School\n",
       "OLYMPIA HIGH SCHOOL            1.0\n",
       "CEDARCREST HIGH SCHOOL         1.0\n",
       "LAKE NORMAN HIGH SCHOOL        1.0\n",
       "JOEL E FERRIS HIGH SCHOOL      1.0\n",
       "SANTA FE PREPARATORY SCHOOL    1.0\n",
       "dtype: float64"
      ]
     },
     "execution_count": 31,
     "metadata": {},
     "output_type": "execute_result"
    }
   ],
   "source": [
    "print(\"Santa Barbara\")\n",
    "series_f_p_univ[\"Santa Barbara\"].sort_values(ascending=False).head()"
   ]
  },
  {
   "cell_type": "code",
   "execution_count": 32,
   "metadata": {
    "collapsed": false
   },
   "outputs": [
    {
     "data": {
      "text/plain": [
       "School\n",
       "UNIV VERMONT                       1.000000\n",
       "YAVAPAI COLLEGE                    1.000000\n",
       "TACOMA COMMUNITY COLLEGE           1.000000\n",
       "UC SANTA BARBARA SUMMER SESSION    0.948637\n",
       "UC SANTA BARBARA                   0.838592\n",
       "dtype: float64"
      ]
     },
     "execution_count": 32,
     "metadata": {},
     "output_type": "execute_result"
    }
   ],
   "source": [
    "series_t_p_univ[\"Santa Barbara\"].sort_values(ascending=False).head()"
   ]
  },
  {
   "cell_type": "code",
   "execution_count": 33,
   "metadata": {
    "collapsed": false
   },
   "outputs": [
    {
     "name": "stdout",
     "output_type": "stream",
     "text": [
      "San Diego\n"
     ]
    },
    {
     "data": {
      "text/plain": [
       "School\n",
       "SHAWNEE MISSION EAST HS           1.0\n",
       "MCDONOGH SCHOOL                   1.0\n",
       "POINT ARENA HIGH SCHOOL           1.0\n",
       "ARSHAG DICKRANIAN ARMENIAN SCH    1.0\n",
       "KALAHEO HIGH SCHOOL               1.0\n",
       "dtype: float64"
      ]
     },
     "execution_count": 33,
     "metadata": {},
     "output_type": "execute_result"
    }
   ],
   "source": [
    "print(\"San Diego\")\n",
    "series_f_p_univ[\"San Diego\"].sort_values(ascending=False).head()"
   ]
  },
  {
   "cell_type": "code",
   "execution_count": 34,
   "metadata": {
    "collapsed": false
   },
   "outputs": [
    {
     "data": {
      "text/plain": [
       "School\n",
       "KAPIOLANI COMMUNITY COLLEGE    0.800000\n",
       "CUYAMACA COLLEGE               0.673105\n",
       "MIRACOSTA COLLEGE              0.668096\n",
       "GROSSMONT CMTY COLLEGE         0.652926\n",
       "SAN DIEGO MIRAMAR COLLEGE      0.649460\n",
       "dtype: float64"
      ]
     },
     "execution_count": 34,
     "metadata": {},
     "output_type": "execute_result"
    }
   ],
   "source": [
    "series_t_p_univ[\"San Diego\"].sort_values(ascending=False).head()"
   ]
  },
  {
   "cell_type": "code",
   "execution_count": 35,
   "metadata": {
    "collapsed": false
   },
   "outputs": [
    {
     "name": "stdout",
     "output_type": "stream",
     "text": [
      "Merced\n"
     ]
    },
    {
     "data": {
      "text/plain": [
       "School\n",
       "CONVENT OF THE SACRED HEART HS    1.0\n",
       "COLFAX HIGH SCHOOL                1.0\n",
       "STUART HALL HIGH SCHOOL           1.0\n",
       "SOUTHLANDS CHRISTIAN HS           1.0\n",
       "LIVERMORE VALLEY CHARTER PREP     1.0\n",
       "dtype: float64"
      ]
     },
     "execution_count": 35,
     "metadata": {},
     "output_type": "execute_result"
    }
   ],
   "source": [
    "print(\"Merced\")\n",
    "series_f_p_univ[\"Merced\"].sort_values(ascending=False).head()"
   ]
  },
  {
   "cell_type": "code",
   "execution_count": 36,
   "metadata": {
    "collapsed": false
   },
   "outputs": [
    {
     "data": {
      "text/plain": [
       "School\n",
       "UC SAN DIEGO               1.000000\n",
       "IMPERIAL VALLEY COLLEGE    1.000000\n",
       "YUBA COLLEGE               0.916667\n",
       "UC BERKELEY                0.902439\n",
       "UC DAVIS                   0.897436\n",
       "dtype: float64"
      ]
     },
     "execution_count": 36,
     "metadata": {},
     "output_type": "execute_result"
    }
   ],
   "source": [
    "series_t_p_univ[\"Merced\"].sort_values(ascending=False).head()"
   ]
  },
  {
   "cell_type": "code",
   "execution_count": 37,
   "metadata": {
    "collapsed": false
   },
   "outputs": [
    {
     "name": "stdout",
     "output_type": "stream",
     "text": [
      "Los Angeles\n"
     ]
    },
    {
     "data": {
      "text/plain": [
       "School\n",
       "DAVIDSON ACADEMY               1.000000\n",
       "ACADEMY FOR BUS & FINANCE      1.000000\n",
       "BASIS ORO VALLEY               0.923077\n",
       "SPRUCE CREEK HIGH SCHOOL       0.875000\n",
       "STANTON COLLEGE PREP SCHOOL    0.857143\n",
       "dtype: float64"
      ]
     },
     "execution_count": 37,
     "metadata": {},
     "output_type": "execute_result"
    }
   ],
   "source": [
    "print(\"Los Angeles\")\n",
    "series_f_p_univ[\"Los Angeles\"].sort_values(ascending=False).head()"
   ]
  },
  {
   "cell_type": "code",
   "execution_count": 38,
   "metadata": {
    "collapsed": false
   },
   "outputs": [
    {
     "data": {
      "text/plain": [
       "School\n",
       "VILLANOVA UNIVERSITY    0.800000\n",
       "VINCENNES UNIVERSITY    0.600000\n",
       "WEST COAST UNIV         0.600000\n",
       "WESTMONT COLLEGE        0.583333\n",
       "TUFTS UNIVERSITY        0.500000\n",
       "dtype: float64"
      ]
     },
     "execution_count": 38,
     "metadata": {},
     "output_type": "execute_result"
    }
   ],
   "source": [
    "series_t_p_univ[\"Los Angeles\"].sort_values(ascending=False).head()"
   ]
  },
  {
   "cell_type": "code",
   "execution_count": 39,
   "metadata": {
    "collapsed": false
   },
   "outputs": [
    {
     "name": "stdout",
     "output_type": "stream",
     "text": [
      "Davis\n"
     ]
    },
    {
     "data": {
      "text/plain": [
       "School\n",
       "SHENGLI NO 1 HS DONGYING       1.0\n",
       "BENSON POLYTECH HIGH SCHOOL    1.0\n",
       "MODOC HIGH SCHOOL              1.0\n",
       "TAIPEI EUROPEAN SCHOOL         1.0\n",
       "MAXWELL HIGH SCHOOL            1.0\n",
       "dtype: float64"
      ]
     },
     "execution_count": 39,
     "metadata": {},
     "output_type": "execute_result"
    }
   ],
   "source": [
    "print(\"Davis\")\n",
    "series_f_p_univ[\"Davis\"].sort_values(ascending=False).head()"
   ]
  },
  {
   "cell_type": "code",
   "execution_count": 40,
   "metadata": {
    "collapsed": false
   },
   "outputs": [
    {
     "data": {
      "text/plain": [
       "School\n",
       "ALBRIGHT COLLEGE             1.000000\n",
       "UNIVERSITY OF PUGET SOUND    1.000000\n",
       "CORNELL UNIVERSITY           1.000000\n",
       "PACIFIC UNION COLLEGE        1.000000\n",
       "COPPER MOUNTAIN COLLEGE      0.777778\n",
       "dtype: float64"
      ]
     },
     "execution_count": 40,
     "metadata": {},
     "output_type": "execute_result"
    }
   ],
   "source": [
    "series_t_p_univ[\"Davis\"].sort_values(ascending=False).head()"
   ]
  },
  {
   "cell_type": "code",
   "execution_count": 41,
   "metadata": {
    "collapsed": false
   },
   "outputs": [
    {
     "name": "stdout",
     "output_type": "stream",
     "text": [
      "Universitywide\n"
     ]
    },
    {
     "data": {
      "text/plain": [
       "School\n",
       "SEOUL FOREIGN LANGUAGE HS         1.0\n",
       "INTERNATIONAL BILINGUAL TAINAN    1.0\n",
       "LEON M GOLDSTEIN HS/SCIENCES      1.0\n",
       "GRANTS PASS HIGH SCHOOL           1.0\n",
       "CENTRAL BUCKS HIGH SCH SOUTH      1.0\n",
       "dtype: float64"
      ]
     },
     "execution_count": 41,
     "metadata": {},
     "output_type": "execute_result"
    }
   ],
   "source": [
    "print(\"Universitywide\")\n",
    "series_f_p_univ[\"Universitywide\"].sort_values(ascending=False).head()"
   ]
  },
  {
   "cell_type": "code",
   "execution_count": 42,
   "metadata": {
    "collapsed": false
   },
   "outputs": [
    {
     "data": {
      "text/plain": [
       "School\n",
       "INTRNATL CHRISTIAN UNIV JAPAN    1.000000\n",
       "UC LOS ANGELES HONORS PROG       1.000000\n",
       "UC BERKELEY SUMMER SESSION       1.000000\n",
       "INSTITUTION IN EUROPE            0.965487\n",
       "GRACE CHRISTIAN COLLEGE          0.929936\n",
       "dtype: float64"
      ]
     },
     "execution_count": 42,
     "metadata": {},
     "output_type": "execute_result"
    }
   ],
   "source": [
    "series_t_p_univ[\"Universitywide\"].sort_values(ascending=False).head()"
   ]
  },
  {
   "cell_type": "code",
   "execution_count": 43,
   "metadata": {
    "collapsed": false
   },
   "outputs": [
    {
     "name": "stdout",
     "output_type": "stream",
     "text": [
      "Irvine\n"
     ]
    },
    {
     "data": {
      "text/plain": [
       "School\n",
       "SILVER VALLEY HIGH SCHOOL         1.0\n",
       "MOUNTAIN RIDGE HIGH SCHOOL        1.0\n",
       "NINGBO YINZHOU HIGH SCHOOL        1.0\n",
       "BEIJING NO 8 HIGH SCHOOL YIHAI    1.0\n",
       "RANDOLPH MACON ACADEMY            1.0\n",
       "dtype: float64"
      ]
     },
     "execution_count": 43,
     "metadata": {},
     "output_type": "execute_result"
    }
   ],
   "source": [
    "print(\"Irvine\")\n",
    "series_f_p_univ[\"Irvine\"].sort_values(ascending=False).head()"
   ]
  },
  {
   "cell_type": "code",
   "execution_count": 44,
   "metadata": {
    "collapsed": false
   },
   "outputs": [
    {
     "data": {
      "text/plain": [
       "School\n",
       "INTRNATL CHRISTIAN UNIV JAPAN      1.000000\n",
       "INSTITUTION IN EUROPE              0.924779\n",
       "CALIF BAPTIST UNIVERSITY           0.800000\n",
       "UC SANTA BARBARA SUMMER SESSION    0.722222\n",
       "COLLEGE OF THE REDWOODS            0.710526\n",
       "dtype: float64"
      ]
     },
     "execution_count": 44,
     "metadata": {},
     "output_type": "execute_result"
    }
   ],
   "source": [
    "series_t_p_univ[\"Irvine\"].sort_values(ascending=False).head()"
   ]
  },
  {
   "cell_type": "code",
   "execution_count": 45,
   "metadata": {
    "collapsed": false
   },
   "outputs": [
    {
     "name": "stdout",
     "output_type": "stream",
     "text": [
      "Santa Cruz\n"
     ]
    },
    {
     "data": {
      "text/plain": [
       "School\n",
       "LINCOLN PARK HIGH SCHOOL         1.0\n",
       "QATAR ACADEMY                    1.0\n",
       "MOJAVE HIGH SCHOOL               1.0\n",
       "EXCEL COLLEGE PREPARATORY HS     1.0\n",
       "TAIPEI WEGO PRIVATE SENIOR HS    1.0\n",
       "dtype: float64"
      ]
     },
     "execution_count": 45,
     "metadata": {},
     "output_type": "execute_result"
    }
   ],
   "source": [
    "print(\"Santa Cruz\")\n",
    "series_f_p_univ[\"Santa Cruz\"].sort_values(ascending=False).head()"
   ]
  },
  {
   "cell_type": "code",
   "execution_count": 46,
   "metadata": {
    "collapsed": false
   },
   "outputs": [
    {
     "data": {
      "text/plain": [
       "School\n",
       "UNIV NEW MEXICO ALBUQUERQUE    1.0\n",
       "BARD COLLEGE AT SIMONS ROCK    1.0\n",
       "COLORADO COLLEGE               1.0\n",
       "UNIVERSITY OF PUGET SOUND      1.0\n",
       "UNIV MICHIGAN ANN ARBOR        1.0\n",
       "dtype: float64"
      ]
     },
     "execution_count": 46,
     "metadata": {},
     "output_type": "execute_result"
    }
   ],
   "source": [
    "series_t_p_univ[\"Santa Cruz\"].sort_values(ascending=False).head()"
   ]
  },
  {
   "cell_type": "code",
   "execution_count": null,
   "metadata": {
    "collapsed": true
   },
   "outputs": [],
   "source": []
  }
 ],
 "metadata": {
  "kernelspec": {
   "display_name": "Python 3",
   "language": "python",
   "name": "python3"
  },
  "language_info": {
   "codemirror_mode": {
    "name": "ipython",
    "version": 3
   },
   "file_extension": ".py",
   "mimetype": "text/x-python",
   "name": "python",
   "nbconvert_exporter": "python",
   "pygments_lexer": "ipython3",
   "version": "3.6.5"
  }
 },
 "nbformat": 4,
 "nbformat_minor": 2
}
